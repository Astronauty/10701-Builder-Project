{
 "cells": [
  {
   "cell_type": "code",
   "execution_count": null,
   "id": "initial_id",
   "metadata": {
    "collapsed": true
   },
   "outputs": [],
   "source": [
    "from Prediction import Prediction\n",
    "import torch\n",
    "from DatasetSize import DatasetSize\n",
    "from transformer import TransformerMT\n",
    "from DataLoaderProvider import DataLoaderProvider\n",
    "import pickle\n",
    "from torchtext.data import get_tokenizer\n",
    "from data_loader import Langs\n",
    "\n",
    "device = torch.device(\"cuda\" if torch.cuda.is_available() else \"cpu\")\n",
    "        \n",
    "en_tokenizer = get_tokenizer(tokenizer='spacy', language='en_core_web_sm')\n",
    "fr_tokenizer = get_tokenizer(tokenizer='spacy', language='fr_core_news_sm')\n",
    "\n",
    "dataset_size = DatasetSize.MEDIUM\n",
    "\n",
    "max_sequence_length = 50\n",
    "dataloader_provider = DataLoaderProvider(dataset_size=dataset_size,\n",
    "                                         batch_size=128,\n",
    "                                         max_sequence_length=max_sequence_length)\n",
    "\n",
    "en_vocab_path = f\"data/{dataset_size.value}/vocabs/en_vocab.pkl\"\n",
    "fr_vocab_path = f\"data/{dataset_size.value}/vocabs/fr_vocab.pkl\"\n",
    "\n",
    "with open(en_vocab_path, 'rb') as file:\n",
    "    en_vocab: Langs = pickle.load(file)\n",
    "with open(fr_vocab_path, 'rb') as file:\n",
    "    fr_vocab: Langs = pickle.load(file)\n",
    "\n",
    "model = transformer_mt = TransformerMT(\n",
    "    source_vocabulary_size=en_vocab.n_words,\n",
    "    target_vocabulary_size=fr_vocab.n_words,\n",
    "    embedding_size=512,\n",
    "    max_num_embeddings=max_sequence_length,\n",
    "    num_attention_heads=8,\n",
    "    num_encoder_layers=4,\n",
    "    num_decoder_layers=4,\n",
    "    linear_layer_size=1024,\n",
    "    dropout=0.1,\n",
    "    activation='relu',\n",
    "    layer_norm_eps=1e-5,\n",
    "    batch_first=True,\n",
    "    norm_first=False,\n",
    "    bias=True\n",
    ")\n",
    "\n",
    "checkpoint = torch.load('checkpoint/m-transformer_e-9_l-1.7169042542157575_d-probe3.pt')\n",
    "\n",
    "model.load_state_dict(checkpoint['model_state_dict'])\n",
    "\n",
    "model = model.to(device)\n",
    "\n",
    "prediction = Prediction(model=model, test_dataloader=dataloader_provider.get_test_dataloader(), vocabulary=fr_vocab)\n",
    "\n",
    "bleu_score = prediction.get_bleu_score()\n",
    "\n",
    "print(f\"FINAL BLEU SCORE: {bleu_score}\")"
   ]
  }
 ],
 "metadata": {
  "kernelspec": {
   "display_name": "Python 3",
   "language": "python",
   "name": "python3"
  },
  "language_info": {
   "codemirror_mode": {
    "name": "ipython",
    "version": 2
   },
   "file_extension": ".py",
   "mimetype": "text/x-python",
   "name": "python",
   "nbconvert_exporter": "python",
   "pygments_lexer": "ipython2",
   "version": "2.7.6"
  }
 },
 "nbformat": 4,
 "nbformat_minor": 5
}
