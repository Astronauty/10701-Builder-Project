{
 "cells": [
  {
   "cell_type": "code",
   "execution_count": null,
   "metadata": {},
   "outputs": [],
   "source": [
    "%load_ext autoreload\n",
    "%autoreload 2"
   ]
  },
  {
   "cell_type": "code",
   "execution_count": 1,
   "metadata": {},
   "outputs": [],
   "source": [
    "import torch\n",
    "import torch.nn as nn\n",
    "import torch.optim as optim\n",
    "import torch.utils.data as data\n",
    "import math\n",
    "import copy\n",
    "import spacy\n",
    "import pathlib\n",
    "from pathlib import Path\n",
    "\n",
    "from funnel_transformer import *\n",
    "from data_loader import *\n",
    "\n"
   ]
  },
  {
   "cell_type": "code",
   "execution_count": 23,
   "metadata": {},
   "outputs": [],
   "source": [
    "# Create abridged dataset\n",
    "full_dataset_path = 'data/en-fr.csv'\n",
    "abridged_dataset_path = 'data/en-fr-abridged.csv'\n",
    "\n",
    "\n",
    "Path(full_dataset_path).parent.mkdir(parents=True, exist_ok=True) # make datafolder if it doesn't exist\n",
    "full_dataset = pd.read_csv(full_dataset_path)\n",
    "abridged_dataset = full_dataset.head(5000)\n",
    "abridged_dataset.to_csv(abridged_dataset_path, index=False)"
   ]
  },
  {
   "cell_type": "code",
   "execution_count": 2,
   "metadata": {},
   "outputs": [
    {
     "name": "stdout",
     "output_type": "stream",
     "text": [
      "reading lines....\n"
     ]
    },
    {
     "name": "stderr",
     "output_type": "stream",
     "text": [
      "100%|██████████| 5000/5000 [00:00<00:00, 174958.04it/s]\n"
     ]
    },
    {
     "name": "stdout",
     "output_type": "stream",
     "text": [
      "Got 5000 pairs\n",
      "Creating Dictionary...\n"
     ]
    },
    {
     "name": "stderr",
     "output_type": "stream",
     "text": [
      "100%|██████████| 5000/5000 [00:01<00:00, 4944.96it/s]\n"
     ]
    },
    {
     "name": "stdout",
     "output_type": "stream",
     "text": [
      "Counted words\n",
      "en length: 8325\n",
      "fr length: 9691\n"
     ]
    },
    {
     "name": "stderr",
     "output_type": "stream",
     "text": [
      "100%|██████████| 5000/5000 [00:00<00:00, 19440.95it/s]\n"
     ]
    },
    {
     "name": "stdout",
     "output_type": "stream",
     "text": [
      "reading lines....\n"
     ]
    },
    {
     "name": "stderr",
     "output_type": "stream",
     "text": [
      "100%|██████████| 5000/5000 [00:00<00:00, 174921.55it/s]\n"
     ]
    }
   ],
   "source": [
    "# Create abridged pickle files\n",
    "\n",
    "full_dataset_path = 'data/en-fr.csv'\n",
    "abridged_dataset_path = Path('data/en-fr-abridged.csv')\n",
    "\n",
    "abridged_dataset = pd.read_csv(abridged_dataset_path)\n",
    "pickle_data()\n",
    "english, french, pairs = read_lang('en', 'fr', abridged_dataset)"
   ]
  },
  {
   "cell_type": "code",
   "execution_count": 2,
   "metadata": {},
   "outputs": [
    {
     "name": "stderr",
     "output_type": "stream",
     "text": [
      "100%|██████████| 5000/5000 [00:00<00:00, 172355.44it/s]\n",
      "Adding sentences to Langs amd geting data pairs...: 100%|██████████| 5000/5000 [00:01<00:00, 4675.60it/s]\n",
      "100%|██████████| 5000/5000 [00:00<00:00, 18015.42it/s]\n"
     ]
    },
    {
     "ename": "NameError",
     "evalue": "name 'src_data' is not defined",
     "output_type": "error",
     "traceback": [
      "\u001b[1;31m---------------------------------------------------------------------------\u001b[0m",
      "\u001b[1;31mNameError\u001b[0m                                 Traceback (most recent call last)",
      "\u001b[1;32mc:\\Users\\Daniel\\Documents\\Python Projects\\10701\\10701-Builder-Project\\funnel_transformer_train.ipynb Cell 4\u001b[0m line \u001b[0;36m4\n\u001b[0;32m     <a href='vscode-notebook-cell:/c%3A/Users/Daniel/Documents/Python%20Projects/10701/10701-Builder-Project/funnel_transformer_train.ipynb#W1sZmlsZQ%3D%3D?line=41'>42</a>\u001b[0m \u001b[39mfor\u001b[39;00m epoch \u001b[39min\u001b[39;00m \u001b[39mrange\u001b[39m(\u001b[39m100\u001b[39m):\n\u001b[0;32m     <a href='vscode-notebook-cell:/c%3A/Users/Daniel/Documents/Python%20Projects/10701/10701-Builder-Project/funnel_transformer_train.ipynb#W1sZmlsZQ%3D%3D?line=42'>43</a>\u001b[0m     optimizer\u001b[39m.\u001b[39mzero_grad()\n\u001b[1;32m---> <a href='vscode-notebook-cell:/c%3A/Users/Daniel/Documents/Python%20Projects/10701/10701-Builder-Project/funnel_transformer_train.ipynb#W1sZmlsZQ%3D%3D?line=43'>44</a>\u001b[0m     output \u001b[39m=\u001b[39m transformer(src_data, tgt_data[:, :\u001b[39m-\u001b[39m\u001b[39m1\u001b[39m])\n\u001b[0;32m     <a href='vscode-notebook-cell:/c%3A/Users/Daniel/Documents/Python%20Projects/10701/10701-Builder-Project/funnel_transformer_train.ipynb#W1sZmlsZQ%3D%3D?line=44'>45</a>\u001b[0m     loss \u001b[39m=\u001b[39m loss_criterion(output\u001b[39m.\u001b[39mcontiguous()\u001b[39m.\u001b[39mview(\u001b[39m-\u001b[39m\u001b[39m1\u001b[39m, tgt_vocab_size), tgt_data[:, \u001b[39m1\u001b[39m:]\u001b[39m.\u001b[39mcontiguous()\u001b[39m.\u001b[39mview(\u001b[39m-\u001b[39m\u001b[39m1\u001b[39m))\n\u001b[0;32m     <a href='vscode-notebook-cell:/c%3A/Users/Daniel/Documents/Python%20Projects/10701/10701-Builder-Project/funnel_transformer_train.ipynb#W1sZmlsZQ%3D%3D?line=45'>46</a>\u001b[0m     loss\u001b[39m.\u001b[39mbackward()\n",
      "\u001b[1;31mNameError\u001b[0m: name 'src_data' is not defined"
     ]
    }
   ],
   "source": [
    "from data_loader import *\n",
    "from funnel_transformer import *\n",
    "# full_dataset_path = Path('data/en-fr.csv')\n",
    "# abridged_dataset_path = Path('data/en-fr-abridged.csv')\n",
    "\n",
    "# ds = pd.read_csv(abridged_dataset_path)\n",
    "# english, french, pairs = read_lang('en', 'fr', abridged_dataset)\n",
    "\n",
    "# src_vocab_size = 5000\n",
    "# tgt_vocab_size = 5000\n",
    "# d_model = 512\n",
    "# num_heads = 8\n",
    "# num_layers = 6\n",
    "# d_ff = 2048\n",
    "# max_seq_length = 100\n",
    "# dropout = 0.1\n",
    "\n",
    "\n",
    "data = EnFrDataset(used_abridged_data=True)\n",
    "src_vocab_size = data.get_src_lang_size()\n",
    "tgt_vocab_size = data.get_tgt_lang_size()\n",
    "d_model = 512\n",
    "num_heads = 4\n",
    "d_ff = 2014\n",
    "max_seq_length = 100\n",
    "num_layers = 6\n",
    "dropout = 0.1\n",
    "\n",
    "transformer = Transformer(src_vocab_size, tgt_vocab_size, d_model, num_heads, num_layers, d_ff, max_seq_length, dropout)\n",
    "\n",
    "# # Generate random sample data\n",
    "# src_data = torch.randint(1, src_vocab_size, (64, max_seq_length))  # (batch_size, seq_length)\n",
    "# tgt_data = torch.randint(1, tgt_vocab_size, (64, max_seq_length))  # (batch_size, seq_length)\n",
    "\n",
    "\n",
    "\n",
    "loss_criterion = nn.CrossEntropyLoss(ignore_index=0)\n",
    "optimizer = optim.Adam(transformer.parameters(), lr=0.0001, betas=(0.9, 0.98), eps=1e-9)\n",
    "batch_size = 64\n",
    "\n",
    "transformer.train()\n",
    "\n",
    "for epoch in range(100):\n",
    "    optimizer.zero_grad()\n",
    "    output = transformer(src_data, tgt_data[:, :-1])\n",
    "    loss = loss_criterion(output.contiguous().view(-1, tgt_vocab_size), tgt_data[:, 1:].contiguous().view(-1))\n",
    "    loss.backward()\n",
    "    optimizer.step()\n",
    "    print(f\"Epoch: {epoch+1}, Loss: {loss.item()}\")"
   ]
  },
  {
   "cell_type": "code",
   "execution_count": 3,
   "metadata": {},
   "outputs": [
    {
     "name": "stdout",
     "output_type": "stream",
     "text": [
      "tensor([[9, 5, 4,  ..., 6, 7, 4],\n",
      "        [8, 9, 3,  ..., 6, 8, 8],\n",
      "        [8, 3, 2,  ..., 6, 7, 6],\n",
      "        ...,\n",
      "        [6, 9, 6,  ..., 8, 2, 6],\n",
      "        [6, 7, 9,  ..., 8, 1, 4],\n",
      "        [3, 9, 2,  ..., 4, 1, 3]])\n"
     ]
    }
   ],
   "source": [
    "print(torch.randint(1,10,(64,100)))\n"
   ]
  },
  {
   "cell_type": "code",
   "execution_count": null,
   "metadata": {},
   "outputs": [],
   "source": []
  }
 ],
 "metadata": {
  "kernelspec": {
   "display_name": "torchtext",
   "language": "python",
   "name": "python3"
  },
  "language_info": {
   "codemirror_mode": {
    "name": "ipython",
    "version": 3
   },
   "file_extension": ".py",
   "mimetype": "text/x-python",
   "name": "python",
   "nbconvert_exporter": "python",
   "pygments_lexer": "ipython3",
   "version": "3.11.5"
  }
 },
 "nbformat": 4,
 "nbformat_minor": 2
}
