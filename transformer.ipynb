{
 "cells": [
  {
   "cell_type": "code",
   "execution_count": 1,
   "id": "fcf179ab-6361-4c41-a7f8-44b9b894ddf2",
   "metadata": {},
   "outputs": [
    {
     "name": "stdout",
     "output_type": "stream",
     "text": [
      "Reading the dataframe and storing untokenized pairs...\n"
     ]
    },
    {
     "name": "stderr",
     "output_type": "stream",
     "text": [
      "100%|████████████████████████████████████████████████| 1000/1000 [00:00<00:00, 94292.16it/s]\n"
     ]
    },
    {
     "name": "stdout",
     "output_type": "stream",
     "text": [
      "Adding sentences to Langs amd geting data pairs...\n"
     ]
    },
    {
     "name": "stderr",
     "output_type": "stream",
     "text": [
      "100%|█████████████████████████████████████████████████| 1000/1000 [00:00<00:00, 2125.74it/s]\n"
     ]
    },
    {
     "name": "stdout",
     "output_type": "stream",
     "text": [
      "Creating tokenized pairs of english and french sentences...\n"
     ]
    },
    {
     "name": "stderr",
     "output_type": "stream",
     "text": [
      "100%|█████████████████████████████████████████████████| 1000/1000 [00:00<00:00, 6281.46it/s]\n"
     ]
    }
   ],
   "source": [
    "from torch.nn import CrossEntropyLoss\n",
    "from transformer import TransformerMT\n",
    "from torch import optim\n",
    "from data_loader import *\n",
    "from TrainEval import TrainEval\n",
    "from DataLoaderProvider import DataLoaderProvider\n",
    "from torchtext.data import get_tokenizer\n",
    "\n",
    "en_tokenizer = get_tokenizer(tokenizer='spacy', language='en_core_web_sm')\n",
    "en_vocab = Vocabulary(tokenizer=en_tokenizer)\n",
    "en_vocab.filter_out_rare_keys(threshold=1)\n",
    "fr_tokenizer = get_tokenizer(tokenizer='spacy', language='fr_core_news_sm')\n",
    "fr_vocab = Vocabulary(tokenizer=fr_tokenizer)\n",
    "fr_vocab.filter_out_rare_keys(threshold=1)\n",
    "\n",
    "dataloader_provider = DataLoaderProvider(\n",
    "    abridge=True,\n",
    "    batch_size=32\n",
    ")\n",
    "\n",
    "model = transformer_mt = TransformerMT(\n",
    "    source_vocabulary_size=en_vocab.vocabulary_size,\n",
    "    target_vocabulary_size=fr_vocab.vocabulary_size,\n",
    "    embedding_size=512,\n",
    "    max_num_embeddings=100,\n",
    "    num_attention_heads=8,\n",
    "    num_encoder_layers=6,\n",
    "    num_decoder_layers=6,\n",
    "    linear_layer_size=2048,\n",
    "    dropout=0.1,\n",
    "    activation='relu',\n",
    "    layer_norm_eps=1e-5,\n",
    "    batch_first=False,\n",
    "    norm_first=False,\n",
    "    bias=True\n",
    ")\n",
    "\n",
    "train_eval = TrainEval(\n",
    "    dataloader_provider=dataloader_provider,\n",
    "    num_epochs=10,\n",
    "    optimizer=optim.Adam(transformer_mt.parameters(), lr=0.0001, betas=(0.9, 0.98), eps=1e-9),\n",
    "    loss_function=CrossEntropyLoss(ignore_index=0),\n",
    "    model=model,\n",
    "    model_shortname='transformer'\n",
    ")\n",
    "\n",
    "train_eval.execute()"
   ]
  }
 ],
 "metadata": {
  "kernelspec": {
   "display_name": "Python 3 (ipykernel)",
   "language": "python",
   "name": "python3"
  },
  "language_info": {
   "codemirror_mode": {
    "name": "ipython",
    "version": 3
   },
   "file_extension": ".py",
   "mimetype": "text/x-python",
   "name": "python",
   "nbconvert_exporter": "python",
   "pygments_lexer": "ipython3",
   "version": "3.10.9"
  }
 },
 "nbformat": 4,
 "nbformat_minor": 5
}
