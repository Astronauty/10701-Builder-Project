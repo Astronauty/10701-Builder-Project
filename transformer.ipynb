{
 "cells": [
  {
   "cell_type": "code",
   "execution_count": 1,
   "id": "initial_id",
   "metadata": {
    "ExecuteTime": {
     "end_time": "2023-11-17T23:55:11.182786Z",
     "start_time": "2023-11-17T22:51:35.057239Z"
    },
    "collapsed": true
   },
   "outputs": [
    {
     "name": "stdout",
     "output_type": "stream",
     "text": [
      "Creating abridged dataset...\n",
      "Reading the dataframe and storing untokenized pairs...\n"
     ]
    },
    {
     "name": "stderr",
     "output_type": "stream",
     "text": [
      "100%|██████████| 1000/1000 [00:00<00:00, 114717.58it/s]\n"
     ]
    },
    {
     "name": "stdout",
     "output_type": "stream",
     "text": [
      "Adding sentences to Langs amd geting data pairs...\n"
     ]
    },
    {
     "name": "stderr",
     "output_type": "stream",
     "text": [
      "100%|██████████| 1000/1000 [00:00<00:00, 2758.29it/s]\n"
     ]
    },
    {
     "name": "stdout",
     "output_type": "stream",
     "text": [
      "Creating tokenized pairs of english and french sentences...\n"
     ]
    },
    {
     "name": "stderr",
     "output_type": "stream",
     "text": [
      "100%|██████████| 1000/1000 [00:00<00:00, 9138.95it/s]\n",
      "/Users/joelmire/miniconda3/lib/python3.11/site-packages/torch/nn/modules/transformer.py:282: UserWarning: enable_nested_tensor is True, but self.use_nested_tensor is False because encoder_layer.self_attn.batch_first was not True(use batch_first for better inference performance)\n",
      "  warnings.warn(f\"enable_nested_tensor is True, but self.use_nested_tensor is False because {why_not_sparsity_fast_path}\")\n"
     ]
    },
    {
     "name": "stdout",
     "output_type": "stream",
     "text": [
      "epoch: 1, epoch loss: 79.308\n",
      "epoch: 2, epoch loss: 60.525\n",
      "epoch: 3, epoch loss: 58.041\n",
      "epoch: 4, epoch loss: 57.415\n",
      "epoch: 5, epoch loss: 57.189\n",
      "epoch: 6, epoch loss: 56.948\n",
      "epoch: 7, epoch loss: 56.54\n",
      "epoch: 8, epoch loss: 56.386\n",
      "epoch: 9, epoch loss: 56.245\n",
      "epoch: 10, epoch loss: 56.152\n",
      "epoch: 11, epoch loss: 56.247\n",
      "epoch: 12, epoch loss: 55.994\n",
      "epoch: 13, epoch loss: 55.849\n",
      "epoch: 14, epoch loss: 55.487\n",
      "epoch: 15, epoch loss: 55.297\n",
      "epoch: 16, epoch loss: 55.077\n",
      "epoch: 17, epoch loss: 55.028\n",
      "epoch: 18, epoch loss: 54.939\n",
      "epoch: 19, epoch loss: 54.851\n",
      "epoch: 20, epoch loss: 54.554\n",
      "epoch: 21, epoch loss: 54.351\n",
      "epoch: 22, epoch loss: 54.233\n",
      "epoch: 23, epoch loss: 53.953\n",
      "epoch: 24, epoch loss: 53.811\n",
      "epoch: 25, epoch loss: 53.533\n",
      "epoch: 26, epoch loss: 53.205\n",
      "epoch: 27, epoch loss: 52.909\n",
      "epoch: 28, epoch loss: 52.604\n",
      "epoch: 29, epoch loss: 52.326\n",
      "epoch: 30, epoch loss: 52.078\n"
     ]
    }
   ],
   "source": [
    "from torch.nn import CrossEntropyLoss\n",
    "from transformer import TransformerMT\n",
    "from torch import optim\n",
    "from data_loader import *\n",
    "from torch.utils.data import DataLoader\n",
    "import matplotlib.pyplot as plt\n",
    "\n",
    "device = torch.device(\"cuda\" if torch.cuda.is_available() else \"cpu\")\n",
    "\n",
    "data = EnFrDataset(used_abridged_data=True, max_seq_length=100)\n",
    "\n",
    "train_dataloader = DataLoader(data, batch_size=32, shuffle=False, num_workers=0)\n",
    "\n",
    "transformer_mt = TransformerMT(\n",
    "    source_vocabulary_size=data.get_src_lang_size(),\n",
    "    target_vocabulary_size=data.get_tgt_lang_size(),\n",
    "    embedding_size=512,\n",
    "    max_num_embeddings=100,\n",
    "    num_attention_heads=8,\n",
    "    num_encoder_layers=6,\n",
    "    num_decoder_layers=6,\n",
    "    linear_layer_size=2048,\n",
    "    dropout=0.1,\n",
    "    activation='relu',\n",
    "    layer_norm_eps=1e-5,\n",
    "    batch_first=False,\n",
    "    norm_first=False,\n",
    "    bias=True\n",
    ")\n",
    "transformer_mt.to(device)\n",
    "\n",
    "transformer_mt.train()\n",
    "\n",
    "optimizer = optim.Adam(transformer_mt.parameters(), lr=0.0001, betas=(0.9, 0.98), eps=1e-9)\n",
    "\n",
    "loss_criterion = CrossEntropyLoss(ignore_index=0)\n",
    "\n",
    "epoch_losses = []\n",
    "for e in range(30):\n",
    "    transformer_mt\n",
    "    running_loss = 0\n",
    "    for en_token_ids, fr_token_ids in train_dataloader:\n",
    "        en_token_ids.to(device)\n",
    "        fr_token_ids.to(device)\n",
    "\n",
    "        optimizer.zero_grad()\n",
    "    \n",
    "        output = transformer_mt(src=en_token_ids, tgt=fr_token_ids[:-1, :])\n",
    "        \n",
    "        loss = loss_criterion(output.reshape(-1, output.shape[-1]), fr_token_ids[1:, :].reshape(-1))\n",
    "    \n",
    "        loss.backward()\n",
    "        optimizer.step()\n",
    "    \n",
    "        running_loss += loss.item()\n",
    "\n",
    "    epoch_losses.append(running_loss)\n",
    "    print(f\"epoch: {e+1}, epoch loss: {round(running_loss, 3)}\")"
   ]
  },
  {
   "cell_type": "code",
   "execution_count": 2,
   "id": "9c28fda28b3c916a",
   "metadata": {
    "ExecuteTime": {
     "end_time": "2023-11-17T23:55:11.490383Z",
     "start_time": "2023-11-17T23:55:11.133611Z"
    }
   },
   "outputs": [
    {
     "name": "stdout",
     "output_type": "stream",
     "text": [
      "[79.30840229988098, 60.52522027492523, 58.04114770889282, 57.41509461402893, 57.18946558237076, 56.947907626628876, 56.54048764705658, 56.38610762357712, 56.24526047706604, 56.15225446224213, 56.24650013446808, 55.99440437555313, 55.84944212436676, 55.48693758249283, 55.29683876037598, 55.076701641082764, 55.027770936489105, 54.93891990184784, 54.850665628910065, 54.554074227809906, 54.35051292181015, 54.23271709680557, 53.95336353778839, 53.81109011173248, 53.533433973789215, 53.20516461133957, 52.909401297569275, 52.60447424650192, 52.32636350393295, 52.077720284461975]\n"
     ]
    },
    {
     "data": {
      "image/png": "[encoded data removed]",
      "text/plain": [
       "<Figure size 640x480 with 1 Axes>"
      ]
     },
     "metadata": {},
     "output_type": "display_data"
    }
   ],
   "source": [
    "print(epoch_losses)\n",
    "plt.plot(epoch_losses)\n",
    "plt.ylabel('cumulative loss')\n",
    "plt.xlabel('epoch')\n",
    "plt.show()\n",
    "plt.savefig('epoch_losses.png')"
   ]
  }
 ],
 "metadata": {
  "kernelspec": {
   "display_name": "Python 3 (ipykernel)",
   "language": "python",
   "name": "python3"
  },
  "language_info": {
   "codemirror_mode": {
    "name": "ipython",
    "version": 3
   },
   "file_extension": ".py",
   "mimetype": "text/x-python",
   "name": "python",
   "nbconvert_exporter": "python",
   "pygments_lexer": "ipython3",
   "version": "3.11.6"
  }
 },
 "nbformat": 4,
 "nbformat_minor": 5
}
