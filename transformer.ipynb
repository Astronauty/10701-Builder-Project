{
 "cells": [
  {
   "cell_type": "code",
   "execution_count": 1,
   "id": "initial_id",
   "metadata": {
    "collapsed": true,
    "ExecuteTime": {
     "end_time": "2023-11-17T18:04:09.103831Z",
     "start_time": "2023-11-17T18:02:19.453929Z"
    }
   },
   "outputs": [
    {
     "name": "stdout",
     "output_type": "stream",
     "text": [
      "Reading the dataframe and storing untokenized pairs...\n"
     ]
    },
    {
     "name": "stderr",
     "output_type": "stream",
     "text": [
      "100%|██████████| 300/300 [00:00<00:00, 79008.61it/s]\n"
     ]
    },
    {
     "name": "stdout",
     "output_type": "stream",
     "text": [
      "Adding sentences to Langs amd geting data pairs...\n"
     ]
    },
    {
     "name": "stderr",
     "output_type": "stream",
     "text": [
      "100%|██████████| 300/300 [00:00<00:00, 2227.36it/s]\n"
     ]
    },
    {
     "name": "stdout",
     "output_type": "stream",
     "text": [
      "Creating tokenized pairs of english and french sentences...\n"
     ]
    },
    {
     "name": "stderr",
     "output_type": "stream",
     "text": [
      "100%|██████████| 300/300 [00:00<00:00, 9908.43it/s]\n",
      "/Users/joelmire/miniconda3/lib/python3.11/site-packages/torch/nn/modules/transformer.py:282: UserWarning: enable_nested_tensor is True, but self.use_nested_tensor is False because encoder_layer.self_attn.batch_first was not True(use batch_first for better inference performance)\n",
      "  warnings.warn(f\"enable_nested_tensor is True, but self.use_nested_tensor is False because {why_not_sparsity_fast_path}\")\n"
     ]
    },
    {
     "name": "stdout",
     "output_type": "stream",
     "text": [
      "epoch: 1, epoch loss: 27.167\n",
      "epoch: 2, epoch loss: 17.472\n"
     ]
    },
    {
     "name": "stderr",
     "output_type": "stream",
     "text": [
      "\n",
      "KeyboardInterrupt\n",
      "\n"
     ]
    }
   ],
   "source": [
    "from torch.nn import CrossEntropyLoss\n",
    "from transformer import TransformerMT\n",
    "from torch import optim\n",
    "from data_loader import *\n",
    "from torch.utils.data import DataLoader\n",
    "import matplotlib.pyplot as plt\n",
    "\n",
    "device = torch.device(\"cuda\" if torch.cuda.is_available() else \"cpu\")\n",
    "\n",
    "data = EnFrDataset(used_abridged_data=True, max_seq_length=100)\n",
    "\n",
    "train_dataloader = DataLoader(data, batch_size=32, shuffle=False, num_workers=0)\n",
    "\n",
    "transformer_mt = TransformerMT(\n",
    "    source_vocabulary_size=data.get_src_lang_size(),\n",
    "    target_vocabulary_size=data.get_tgt_lang_size(),\n",
    "    embedding_size=512,\n",
    "    max_num_embeddings=100,\n",
    "    num_attention_heads=8,\n",
    "    num_encoder_layers=6,\n",
    "    num_decoder_layers=6,\n",
    "    linear_layer_size=2048,\n",
    "    dropout=0.1,\n",
    "    activation='relu',\n",
    "    layer_norm_eps=1e-5,\n",
    "    batch_first=False,\n",
    "    norm_first=False,\n",
    "    bias=True\n",
    ")\n",
    "transformer_mt.to(device)\n",
    "\n",
    "transformer_mt.train()\n",
    "\n",
    "optimizer = optim.Adam(transformer_mt.parameters(), lr=0.0001, betas=(0.9, 0.98), eps=1e-9)\n",
    "\n",
    "loss_criterion = CrossEntropyLoss(ignore_index=0)\n",
    "\n",
    "epoch_losses = []\n",
    "for e in range(60):\n",
    "    transformer_mt\n",
    "    running_loss = 0\n",
    "    for en_token_ids, fr_token_ids in train_dataloader:\n",
    "        en_token_ids.to(device)\n",
    "        fr_token_ids.to(device)\n",
    "\n",
    "        optimizer.zero_grad()\n",
    "    \n",
    "        output = transformer_mt(src=en_token_ids, tgt=fr_token_ids[:-1, :])\n",
    "        \n",
    "        loss = loss_criterion(output.reshape(-1, output.shape[-1]), fr_token_ids[1:, :].reshape(-1))\n",
    "    \n",
    "        loss.backward()\n",
    "        optimizer.step()\n",
    "    \n",
    "        running_loss += loss.item()\n",
    "\n",
    "    epoch_losses.append(running_loss)\n",
    "    print(f\"epoch: {e+1}, epoch loss: {round(running_loss, 3)}\")"
   ]
  },
  {
   "cell_type": "code",
   "execution_count": null,
   "outputs": [],
   "source": [
    "print(epoch_losses)\n",
    "plt.plot(epoch_losses)\n",
    "plt.ylabel('cumulative loss')\n",
    "plt.xlabel('epoch')\n",
    "plt.show()"
   ],
   "metadata": {
    "collapsed": false,
    "ExecuteTime": {
     "start_time": "2023-11-17T18:04:09.093039Z"
    }
   },
   "id": "9c28fda28b3c916a"
  }
 ],
 "metadata": {
  "kernelspec": {
   "display_name": "Python 3",
   "language": "python",
   "name": "python3"
  },
  "language_info": {
   "codemirror_mode": {
    "name": "ipython",
    "version": 2
   },
   "file_extension": ".py",
   "mimetype": "text/x-python",
   "name": "python",
   "nbconvert_exporter": "python",
   "pygments_lexer": "ipython2",
   "version": "2.7.6"
  }
 },
 "nbformat": 4,
 "nbformat_minor": 5
}
