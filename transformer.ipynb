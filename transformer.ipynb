{
 "cells": [
  {
   "cell_type": "code",
   "execution_count": 1,
   "id": "initial_id",
   "metadata": {
    "ExecuteTime": {
     "end_time": "2023-11-17T23:55:11.182786Z",
     "start_time": "2023-11-17T22:51:35.057239Z"
    }
   },
   "outputs": [
    {
     "name": "stdout",
     "output_type": "stream",
     "text": [
      "Reading the dataframe and storing untokenized pairs...\n"
     ]
    },
    {
     "name": "stderr",
     "output_type": "stream",
     "text": [
      "100%|███████████████████████████████████████████████████████████████████████████| 1000/1000 [00:00<00:00, 94973.26it/s]\n"
     ]
    },
    {
     "name": "stdout",
     "output_type": "stream",
     "text": [
      "Adding sentences to Langs amd geting data pairs...\n"
     ]
    },
    {
     "name": "stderr",
     "output_type": "stream",
     "text": [
      "100%|████████████████████████████████████████████████████████████████████████████| 1000/1000 [00:00<00:00, 2231.28it/s]\n"
     ]
    },
    {
     "name": "stdout",
     "output_type": "stream",
     "text": [
      "Creating tokenized pairs of english and french sentences...\n"
     ]
    },
    {
     "name": "stderr",
     "output_type": "stream",
     "text": [
      "100%|████████████████████████████████████████████████████████████████████████████| 1000/1000 [00:00<00:00, 6627.37it/s]\n",
      "/opt/conda/lib/python3.10/site-packages/torch/nn/modules/transformer.py:282: UserWarning: enable_nested_tensor is True, but self.use_nested_tensor is False because encoder_layer.self_attn.batch_first was not True(use batch_first for better inference performance)\n",
      "  warnings.warn(f\"enable_nested_tensor is True, but self.use_nested_tensor is False because {why_not_sparsity_fast_path}\")\n"
     ]
    },
    {
     "name": "stdout",
     "output_type": "stream",
     "text": [
      "epoch: 1, epoch loss: 79.484\n",
      "epoch: 2, epoch loss: 60.246\n",
      "epoch: 3, epoch loss: 58.023\n",
      "epoch: 4, epoch loss: 57.432\n",
      "epoch: 5, epoch loss: 57.208\n",
      "epoch: 6, epoch loss: 56.794\n",
      "epoch: 7, epoch loss: 56.692\n",
      "epoch: 8, epoch loss: 56.54\n",
      "epoch: 9, epoch loss: 56.379\n",
      "epoch: 10, epoch loss: 56.188\n",
      "epoch: 11, epoch loss: 55.987\n",
      "epoch: 12, epoch loss: 55.791\n",
      "epoch: 13, epoch loss: 55.639\n",
      "epoch: 14, epoch loss: 55.385\n",
      "epoch: 15, epoch loss: 55.319\n",
      "epoch: 16, epoch loss: 55.236\n",
      "epoch: 17, epoch loss: 55.007\n",
      "epoch: 18, epoch loss: 54.771\n",
      "epoch: 19, epoch loss: 54.612\n",
      "epoch: 20, epoch loss: 54.344\n",
      "epoch: 21, epoch loss: 54.108\n",
      "epoch: 22, epoch loss: 53.889\n",
      "epoch: 23, epoch loss: 53.648\n",
      "epoch: 24, epoch loss: 53.207\n",
      "epoch: 25, epoch loss: 52.732\n",
      "epoch: 26, epoch loss: 52.459\n",
      "epoch: 27, epoch loss: 52.086\n",
      "epoch: 28, epoch loss: 51.65\n",
      "epoch: 29, epoch loss: 51.228\n",
      "epoch: 30, epoch loss: 50.736\n"
     ]
    }
   ],
   "source": [
    "from torch.nn import CrossEntropyLoss\n",
    "from transformer import TransformerMT\n",
    "from torch import optim\n",
    "from data_loader import *\n",
    "from torch.utils.data import DataLoader\n",
    "import matplotlib.pyplot as plt\n",
    "\n",
    "device = torch.device(\"cuda\" if torch.cuda.is_available() else \"cpu\")\n",
    "\n",
    "data = EnFrDataset(used_abridged_data=True, max_seq_length=100)\n",
    "\n",
    "train_dataloader = DataLoader(data, batch_size=32, shuffle=False, num_workers=0)\n",
    "\n",
    "transformer_mt = TransformerMT(\n",
    "    source_vocabulary_size=data.get_src_lang_size(),\n",
    "    target_vocabulary_size=data.get_tgt_lang_size(),\n",
    "    embedding_size=512,\n",
    "    max_num_embeddings=100,\n",
    "    num_attention_heads=8,\n",
    "    num_encoder_layers=6,\n",
    "    num_decoder_layers=6,\n",
    "    linear_layer_size=2048,\n",
    "    dropout=0.1,\n",
    "    activation='relu',\n",
    "    layer_norm_eps=1e-5,\n",
    "    batch_first=False,\n",
    "    norm_first=False,\n",
    "    bias=True\n",
    ")\n",
    "transformer_mt.to(device)\n",
    "\n",
    "transformer_mt.train()\n",
    "\n",
    "optimizer = optim.Adam(transformer_mt.parameters(), lr=0.0001, betas=(0.9, 0.98), eps=1e-9)\n",
    "\n",
    "loss_criterion = CrossEntropyLoss(ignore_index=0)\n",
    "\n",
    "epoch_losses = []\n",
    "for e in range(30):\n",
    "    transformer_mt\n",
    "    running_loss = 0\n",
    "    for en_token_ids, fr_token_ids in train_dataloader:\n",
    "        en_token_ids = en_token_ids.to(device)\n",
    "        fr_token_ids = fr_token_ids.to(device)\n",
    "\n",
    "        optimizer.zero_grad()\n",
    "\n",
    "        output = transformer_mt(src=en_token_ids, tgt=fr_token_ids[:-1, :])\n",
    "        \n",
    "        loss = loss_criterion(output.reshape(-1, output.shape[-1]), fr_token_ids[1:, :].reshape(-1))\n",
    "    \n",
    "        loss.backward()\n",
    "        optimizer.step()\n",
    "    \n",
    "        running_loss += loss.item()\n",
    "\n",
    "    epoch_losses.append(running_loss)\n",
    "    print(f\"epoch: {e+1}, epoch loss: {round(running_loss, 3)}\")"
   ]
  },
  {
   "cell_type": "code",
   "execution_count": 2,
   "id": "9c28fda28b3c916a",
   "metadata": {
    "ExecuteTime": {
     "end_time": "2023-11-17T23:55:11.490383Z",
     "start_time": "2023-11-17T23:55:11.133611Z"
    }
   },
   "outputs": [
    {
     "name": "stdout",
     "output_type": "stream",
     "text": [
      "[79.48429918289185, 60.246424078941345, 58.02264338731766, 57.43153589963913, 57.20792329311371, 56.79440367221832, 56.69172239303589, 56.54026186466217, 56.37879538536072, 56.18778908252716, 55.987387120723724, 55.7905735373497, 55.63920336961746, 55.38463997840881, 55.31938987970352, 55.236328125, 55.00738447904587, 54.770721673965454, 54.61197257041931, 54.34409111738205, 54.108228862285614, 53.88939696550369, 53.64780843257904, 53.206848323345184, 52.73204916715622, 52.459000289440155, 52.086347699165344, 51.649870455265045, 51.22798240184784, 50.735808193683624]\n"
     ]
    },
    {
     "data": {
      "image/png": "[encoded data removed]",
      "text/plain": [
       "<Figure size 640x480 with 1 Axes>"
      ]
     },
     "metadata": {},
     "output_type": "display_data"
    },
    {
     "data": {
      "text/plain": [
       "<Figure size 640x480 with 0 Axes>"
      ]
     },
     "metadata": {},
     "output_type": "display_data"
    }
   ],
   "source": [
    "print(epoch_losses)\n",
    "plt.plot(epoch_losses)\n",
    "plt.ylabel('cumulative loss')\n",
    "plt.xlabel('epoch')\n",
    "plt.show()\n",
    "plt.savefig('epoch_losses.png')"
   ]
  },
  {
   "cell_type": "code",
   "execution_count": null,
   "id": "3cb8f37d-2ae4-4272-94ca-7dd8c85fa044",
   "metadata": {},
   "outputs": [],
   "source": []
  }
 ],
 "metadata": {
  "kernelspec": {
   "display_name": "Python 3 (ipykernel)",
   "language": "python",
   "name": "python3"
  },
  "language_info": {
   "codemirror_mode": {
    "name": "ipython",
    "version": 3
   },
   "file_extension": ".py",
   "mimetype": "text/x-python",
   "name": "python",
   "nbconvert_exporter": "python",
   "pygments_lexer": "ipython3",
   "version": "3.10.9"
  }
 },
 "nbformat": 4,
 "nbformat_minor": 5
}
